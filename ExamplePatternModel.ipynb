{
 "metadata": {
  "name": ""
 },
 "nbformat": 3,
 "nbformat_minor": 0,
 "worksheets": [
  {
   "cells": [
    {
     "cell_type": "markdown",
     "metadata": {},
     "source": [
      "<h1>Generative Music Tutorial</h1>\n",
      "<h2>Patterns and Modal Lookup</h2>"
     ]
    },
    {
     "cell_type": "code",
     "collapsed": false,
     "input": [
      "import music21 as M\n",
      "import metarithms as R"
     ],
     "language": "python",
     "metadata": {},
     "outputs": [],
     "prompt_number": 1
    },
    {
     "cell_type": "code",
     "collapsed": false,
     "input": [
      "help(R.lookup)"
     ],
     "language": "python",
     "metadata": {},
     "outputs": [
      {
       "output_type": "stream",
       "stream": "stdout",
       "text": [
        "Help on function lookup in module metarithms.metascore:\n",
        "\n",
        "lookup(scale, chord)\n",
        "    use lookup table approach to generating pitches from patterns (chords) and modes\n",
        "\n"
       ]
      }
     ],
     "prompt_number": 2
    },
    {
     "cell_type": "code",
     "collapsed": false,
     "input": [
      "help(R.list2mus)"
     ],
     "language": "python",
     "metadata": {},
     "outputs": [
      {
       "output_type": "stream",
       "stream": "stdout",
       "text": [
        "Help on function list2mus in module metarithms.metautils:\n",
        "\n",
        "list2mus(l)\n",
        "    convert a list of notes (pitch,dur) into music21 stream format\n",
        "\n"
       ]
      }
     ],
     "prompt_number": 3
    },
    {
     "cell_type": "code",
     "collapsed": false,
     "input": [
      "R.abs_scale.keys()"
     ],
     "language": "python",
     "metadata": {},
     "outputs": [
      {
       "metadata": {},
       "output_type": "pyout",
       "prompt_number": 4,
       "text": [
        "['pen', 'who', 'mel_up', 'har', 'maj', 'oct2', 'mel_dn', 'oct']"
       ]
      }
     ],
     "prompt_number": 4
    },
    {
     "cell_type": "markdown",
     "metadata": {},
     "source": [
      "<h2>Relative and Absolute codings of a scale</h2>"
     ]
    },
    {
     "cell_type": "code",
     "collapsed": false,
     "input": [
      "print R.rel_scale.keys() # Available scales\n"
     ],
     "language": "python",
     "metadata": {},
     "outputs": [
      {
       "output_type": "stream",
       "stream": "stdout",
       "text": [
        "['pen', 'who', 'mel_up', 'har', 'maj', 'oct2', 'mel_dn', 'oct']\n"
       ]
      }
     ],
     "prompt_number": 5
    },
    {
     "cell_type": "code",
     "collapsed": false,
     "input": [
      "print R.rel_scale['mel_up'] # The relative sequential interval series for the scale\n"
     ],
     "language": "python",
     "metadata": {},
     "outputs": [
      {
       "output_type": "stream",
       "stream": "stdout",
       "text": [
        "[0 2 1 2 2 2 2 1]\n"
       ]
      }
     ],
     "prompt_number": 6
    },
    {
     "cell_type": "code",
     "collapsed": false,
     "input": [
      "print R.abs_scale['mel_up'] + 60 # The absolute sequential interval series for 'C4' MIDI note 60."
     ],
     "language": "python",
     "metadata": {},
     "outputs": [
      {
       "output_type": "stream",
       "stream": "stdout",
       "text": [
        "[60 62 63 65 67 69 71 72]\n"
       ]
      }
     ],
     "prompt_number": 7
    },
    {
     "cell_type": "markdown",
     "metadata": {},
     "source": [
      "<h2> Generating a pattern instance with modal lookup </h2>"
     ]
    },
    {
     "cell_type": "code",
     "collapsed": false,
     "input": [
      "# A pattern is just a list of scale-degree indices \n",
      "pattern = arange(8)+2 # 0-based scale degree, offset by 2\n"
     ],
     "language": "python",
     "metadata": {},
     "outputs": [],
     "prompt_number": 8
    },
    {
     "cell_type": "code",
     "collapsed": false,
     "input": [
      "key = 24 # place at absolute key C in 2nd octave\n",
      "pitches = R.lookup(R.abs_scale['mel_up']+key, pattern) # lookup value in table, add absolute pitch offset\n",
      "rhythms = [0.25] * len(pitches) # special repeat-N syntax for lists\n",
      "note_list = zip(pitches + key, rhythms)\n"
     ],
     "language": "python",
     "metadata": {},
     "outputs": [],
     "prompt_number": 9
    },
    {
     "cell_type": "code",
     "collapsed": false,
     "input": [
      "# Extend the note list by reversal (retrograde), cell+cell[::-1]\n",
      "note_list = note_list + note_list[::-1] # special concatenate syntax for lists\n",
      "# Do it again, now we have 4 repeated cells, alternating forwards/backwards\n",
      "note_list = note_list + note_list[::-1]"
     ],
     "language": "python",
     "metadata": {},
     "outputs": [],
     "prompt_number": 10
    },
    {
     "cell_type": "code",
     "collapsed": false,
     "input": [
      "# Display the results\n",
      "stream = R.list2mus(note_list) # convert python note-list tuples to a music21 stream\n",
      "stream.show() # display as score in external score viewer/editor"
     ],
     "language": "python",
     "metadata": {},
     "outputs": [],
     "prompt_number": 11
    },
    {
     "cell_type": "code",
     "collapsed": false,
     "input": [],
     "language": "python",
     "metadata": {},
     "outputs": []
    }
   ],
   "metadata": {}
  }
 ]
}